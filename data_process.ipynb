{
 "cells": [
  {
   "cell_type": "code",
   "execution_count": null,
   "metadata": {},
   "outputs": [],
   "source": [
    "from BitcoinIndicators import Indicators\n",
    "from BitcoinDownloader import get_dataframes\n",
    "\n",
    "import pandas as pd"
   ]
  },
  {
   "cell_type": "code",
   "execution_count": null,
   "metadata": {},
   "outputs": [],
   "source": [
    "binance = pd.read_pickle('./data/binance-BTCUSDT-1h.pkl')\n",
    "bitfinex2 = pd.read_pickle('./data/bitfinex2-BTCUSDT-1h.pkl')\n",
    "huobi = pd.read_pickle('./data/huobi-BTCUSDT-1h.pkl')\n",
    "\n",
    "huobi.head()\n"
   ]
  },
  {
   "cell_type": "code",
   "execution_count": null,
   "metadata": {},
   "outputs": [],
   "source": [
    "bin_train_df, bin_test_df = get_dataframes(data_path='./data/binance-BTCUSDT-1h.pkl')\n",
    "bitf_train_df, bitf_test_df = get_dataframes(data_path='')\n",
    "huo_train_df, huo_test_df = get_dataframes()"
   ]
  },
  {
   "cell_type": "code",
   "execution_count": null,
   "metadata": {},
   "outputs": [],
   "source": [
    "binance_indicators = Indicators"
   ]
  }
 ],
 "metadata": {
  "kernelspec": {
   "display_name": "Python 3",
   "language": "python",
   "name": "python3"
  },
  "language_info": {
   "codemirror_mode": {
    "name": "ipython",
    "version": 3
   },
   "file_extension": ".py",
   "mimetype": "text/x-python",
   "name": "python",
   "nbconvert_exporter": "python",
   "pygments_lexer": "ipython3",
   "version": "3.11.4"
  },
  "orig_nbformat": 4
 },
 "nbformat": 4,
 "nbformat_minor": 2
}
