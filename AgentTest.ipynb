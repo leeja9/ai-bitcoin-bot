{
 "cells": [
  {
   "cell_type": "markdown",
   "metadata": {},
   "source": [
    "# Imports"
   ]
  },
  {
   "cell_type": "code",
   "execution_count": 1,
   "metadata": {},
   "outputs": [],
   "source": [
    "import matplotlib.pyplot as plt\n",
    "import numpy as np\n",
    "import pandas as pd\n",
    "import gymnasium as gym\n",
    "from sb3_contrib import RecurrentPPO\n",
    "from stable_baselines3.common.evaluation import evaluate_policy\n",
    "import stable_baselines3\n",
    "import gym_trading_env\n",
    "from gym_trading_env.renderer import Renderer   \n",
    "from pathlib import Path\n",
    "from BitcoinDownloader import download_exchange_data, get_dataframes\n",
    "from BitcoinIndicators import Indicators\n",
    "\n",
    "import torch\n",
    "DEVICE = torch.device(\"cuda\" if torch.cuda.is_available() else \"cpu\")\n",
    "%matplotlib inline"
   ]
  },
  {
   "cell_type": "markdown",
   "metadata": {},
   "source": [
    "# Download Data if needed"
   ]
  },
  {
   "cell_type": "code",
   "execution_count": 2,
   "metadata": {},
   "outputs": [
    {
     "name": "stdout",
     "output_type": "stream",
     "text": [
      "data already downloaded\n"
     ]
    }
   ],
   "source": [
    "download_again = False\n",
    "data_path = './data/binance-BTCUSDT-1h.pkl'\n",
    "if not Path(data_path).is_file() or download_again:\n",
    "    download_exchange_data()\n",
    "else:\n",
    "    print(\"data already downloaded\")"
   ]
  },
  {
   "cell_type": "code",
   "execution_count": 3,
   "metadata": {},
   "outputs": [
    {
     "name": "stdout",
     "output_type": "stream",
     "text": [
      "                        open     high      low    close     volume  \\\n",
      "date_open                                                            \n",
      "2017-08-17 04:00:00  4261.48  4313.62  4261.32  4308.83  47.181009   \n",
      "2017-08-17 05:00:00  4308.83  4328.69  4291.37  4315.32  23.234916   \n",
      "\n",
      "                             date_close  \n",
      "date_open                                \n",
      "2017-08-17 04:00:00 2017-08-17 05:00:00  \n",
      "2017-08-17 05:00:00 2017-08-17 06:00:00  \n",
      "                         open      high       low     close      volume  \\\n",
      "date_open                                                                 \n",
      "2022-12-31 23:00:00  16520.28  16551.24  16487.74  16542.40  4973.43307   \n",
      "2023-01-01 00:00:00  16541.77  16545.70  16508.39  16529.67  4364.83570   \n",
      "\n",
      "                             date_close  \n",
      "date_open                                \n",
      "2022-12-31 23:00:00 2023-01-01 00:00:00  \n",
      "2023-01-01 00:00:00 2023-01-01 01:00:00  \n",
      "                         open     high       low     close      volume  \\\n",
      "date_open                                                                \n",
      "2023-01-01 00:00:00  16541.77  16545.7  16508.39  16529.67  4364.83570   \n",
      "2023-01-01 01:00:00  16529.59  16556.8  16525.78  16551.47  3590.06669   \n",
      "\n",
      "                             date_close  \n",
      "date_open                                \n",
      "2023-01-01 00:00:00 2023-01-01 01:00:00  \n",
      "2023-01-01 01:00:00 2023-01-01 02:00:00  \n",
      "                         open      high       low     close     volume  \\\n",
      "date_open                                                                \n",
      "2023-08-06 18:00:00  29088.55  29102.91  29074.03  29087.82  358.55729   \n",
      "2023-08-06 19:00:00  29087.82  29100.00  29076.00  29089.02  125.75786   \n",
      "\n",
      "                             date_close  \n",
      "date_open                                \n",
      "2023-08-06 18:00:00 2023-08-06 19:00:00  \n",
      "2023-08-06 19:00:00 2023-08-06 20:00:00  \n"
     ]
    }
   ],
   "source": [
    "training_df, testing_df = get_dataframes()\n",
    "print(training_df.head(2))\n",
    "print(training_df.tail(2))\n",
    "print(testing_df.head(2))\n",
    "print(testing_df.tail(2))"
   ]
  },
  {
   "cell_type": "markdown",
   "metadata": {},
   "source": [
    "# Create features"
   ]
  },
  {
   "cell_type": "code",
   "execution_count": 4,
   "metadata": {},
   "outputs": [
    {
     "name": "stdout",
     "output_type": "stream",
     "text": [
      "                     index     open     high      low    close     volume  \\\n",
      "date_open                                                                   \n",
      "2017-08-22 12:00:00    128  3866.48  3990.12  3853.53  3934.01  75.787584   \n",
      "2017-08-22 13:00:00    129  3949.01  3964.75  3874.35  3920.99  38.623871   \n",
      "2017-08-22 14:00:00    130  3874.38  3920.99  3786.81  3849.00  26.182528   \n",
      "\n",
      "                              date_close  feature_ROC_2  feature_RROC_2  \\\n",
      "date_open                                                                 \n",
      "2017-08-22 12:00:00  2017-08-22 13:00:00       2.111697       35.867607   \n",
      "2017-08-22 13:00:00  2017-08-22 14:00:00       1.537519     -287.510150   \n",
      "2017-08-22 14:00:00  2017-08-22 15:00:00      -2.018670     -197.992428   \n",
      "\n",
      "                     feature_ATR_2  ...  feature_ROC_32  feature_RROC_32  \\\n",
      "date_open                           ...                                    \n",
      "2017-08-22 12:00:00        100.485  ...       -8.029003      -284.260096   \n",
      "2017-08-22 13:00:00        113.495  ...       -7.307086      -289.341624   \n",
      "2017-08-22 14:00:00        112.290  ...       -6.824108      -299.194841   \n",
      "\n",
      "                     feature_ATR_32  feature_ADX_32  feature_RSI_32  \\\n",
      "date_open                                                             \n",
      "2017-08-22 12:00:00      111.090937       70.847706       31.503231   \n",
      "2017-08-22 13:00:00      110.989062       70.310704       32.279543   \n",
      "2017-08-22 14:00:00      112.725625       69.863493       31.879708   \n",
      "\n",
      "                     feature_ROC_64  feature_RROC_64  feature_ATR_64  \\\n",
      "date_open                                                              \n",
      "2017-08-22 12:00:00       -4.637666       -48.217910       82.007969   \n",
      "2017-08-22 13:00:00       -4.558995       -47.740636       82.236719   \n",
      "2017-08-22 14:00:00       -4.785142       -46.913424       83.290000   \n",
      "\n",
      "                     feature_ADX_64  feature_RSI_64  \n",
      "date_open                                            \n",
      "2017-08-22 12:00:00       36.313113       32.214335  \n",
      "2017-08-22 13:00:00       37.114475       32.128716  \n",
      "2017-08-22 14:00:00       37.931527       31.013385  \n",
      "\n",
      "[3 rows x 43 columns]\n",
      "                     index      open      high       low     close  \\\n",
      "date_open                                                            \n",
      "2022-12-29 06:00:00  46915  16577.21  16582.38  16558.00  16564.49   \n",
      "2022-12-29 07:00:00  46916  16564.60  16572.71  16534.04  16556.37   \n",
      "2022-12-29 08:00:00  46917  16556.37  16567.36  16517.54  16530.88   \n",
      "\n",
      "                         volume           date_close  feature_ROC_2  \\\n",
      "date_open                                                             \n",
      "2022-12-29 06:00:00  4724.94244  2022-12-29 07:00:00      -0.041334   \n",
      "2022-12-29 07:00:00  6367.90859  2022-12-29 08:00:00      -0.126375   \n",
      "2022-12-29 08:00:00  7169.74469  2022-12-29 09:00:00      -0.205427   \n",
      "\n",
      "                     feature_RROC_2  feature_ATR_2  ...  feature_ROC_32  \\\n",
      "date_open                                           ...                   \n",
      "2022-12-29 06:00:00     -118.429247         25.230  ...       -1.036935   \n",
      "2022-12-29 07:00:00     -197.303142         31.525  ...       -1.006896   \n",
      "2022-12-29 08:00:00      497.056125         44.245  ...       -0.985979   \n",
      "\n",
      "                     feature_RROC_32  feature_ATR_32  feature_ADX_32  \\\n",
      "date_open                                                              \n",
      "2022-12-29 06:00:00       208.355837       60.655313       70.734045   \n",
      "2022-12-29 07:00:00       147.084794       60.663125       70.985990   \n",
      "2022-12-29 08:00:00       104.145946       60.425937       71.427482   \n",
      "\n",
      "                     feature_RSI_32  feature_ROC_64  feature_RROC_64  \\\n",
      "date_open                                                              \n",
      "2022-12-29 06:00:00       29.872166       -1.816807      2216.194840   \n",
      "2022-12-29 07:00:00       29.150597       -1.826095      2378.928768   \n",
      "2022-12-29 08:00:00       29.020464       -1.863134      2576.467539   \n",
      "\n",
      "                     feature_ATR_64  feature_ADX_64  feature_RSI_64  \n",
      "date_open                                                            \n",
      "2022-12-29 06:00:00       56.524844       47.139299       29.577057  \n",
      "2022-12-29 07:00:00       56.391719       46.942539       29.767896  \n",
      "2022-12-29 08:00:00       56.477500       46.793204       28.922725  \n",
      "\n",
      "[3 rows x 43 columns]\n"
     ]
    }
   ],
   "source": [
    "ind_path = './data/indicators.csv'\n",
    "training_df.to_csv(ind_path)\n",
    "indicators = Indicators(ind_path)\n",
    "indicators.to_csv(ind_path)\n",
    "training_df = pd.read_csv(ind_path)\n",
    "training_df[\"date_open\"] = pd.to_datetime(training_df[\"date_open\"])\n",
    "training_df.set_index(\"date_open\", inplace=True)\n",
    "\n",
    "training_df.dropna(inplace=True)\n",
    "print(training_df.head(3))\n",
    "print(training_df.tail(3))"
   ]
  },
  {
   "cell_type": "markdown",
   "metadata": {},
   "source": [
    "# Define custom rewards and dynamic features"
   ]
  },
  {
   "cell_type": "code",
   "execution_count": null,
   "metadata": {},
   "outputs": [],
   "source": [
    "# TODO"
   ]
  },
  {
   "cell_type": "markdown",
   "metadata": {},
   "source": [
    "# Create Environment"
   ]
  },
  {
   "cell_type": "code",
   "execution_count": 5,
   "metadata": {},
   "outputs": [
    {
     "name": "stdout",
     "output_type": "stream",
     "text": [
      "[   2.111697    35.867607   100.485       99.61673     50.\n",
      "    3.1281855  -45.050323   106.1775      95.85144     43.443478\n",
      "    6.2386966 -205.62448     91.598335    65.98363     42.622845\n",
      "    7.783201  -174.26988    134.965       33.85249     46.772453\n",
      "   -3.7939115   58.428787   143.4325      58.263798    31.911493\n",
      "   -8.029003  -284.2601     111.090935    70.8477      31.503231\n",
      "   -4.6376657  -48.21791     82.007965    36.313114    32.214336\n",
      "    1.           1.       ]\n"
     ]
    }
   ],
   "source": [
    "training_env = gym.make(\"TradingEnv\",\n",
    "        name= \"BTCUSD\",\n",
    "        df = training_df, # Your dataset with your custom features\n",
    "        positions = [0, 1], # -1 (=SHORT), 0(=SELL ALL), +1 (=BUY ALL)\n",
    "        #trading_fees = 0.01/100, # 0.01% per stock buy / sell (Binance fees)\n",
    "        #borrow_interest_rate= 0.0003/100, # 0.0003% per timestep (one timestep = 1h here)\n",
    "        #dynamic_feature_functions = [dynamic_features]\n",
    "        # reward_function = reward_function,\n",
    "        portfolio_initial_value = 1000,\n",
    "        #max_episode_duration = 1000,\n",
    "    )\n",
    "\n",
    "observation, info = training_env.reset()\n",
    "print(observation)"
   ]
  },
  {
   "cell_type": "markdown",
   "metadata": {},
   "source": [
    "# Create Model"
   ]
  },
  {
   "cell_type": "code",
   "execution_count": 6,
   "metadata": {},
   "outputs": [
    {
     "name": "stdout",
     "output_type": "stream",
     "text": [
      "Using cpu device\n",
      "Wrapping the env with a `Monitor` wrapper\n",
      "Wrapping the env in a DummyVecEnv.\n",
      "---------------------------\n",
      "| time/              |    |\n",
      "|    fps             | 81 |\n",
      "|    iterations      | 1  |\n",
      "|    time_elapsed    | 0  |\n",
      "|    total_timesteps | 15 |\n",
      "---------------------------\n",
      "------------------------------------------\n",
      "| time/                   |              |\n",
      "|    fps                  | 27           |\n",
      "|    iterations           | 2            |\n",
      "|    time_elapsed         | 1            |\n",
      "|    total_timesteps      | 30           |\n",
      "| train/                  |              |\n",
      "|    approx_kl            | 0.0070950706 |\n",
      "|    clip_fraction        | 0.247        |\n",
      "|    clip_range           | 0.1          |\n",
      "|    entropy_loss         | -0.69        |\n",
      "|    explained_variance   | -37.8        |\n",
      "|    learning_rate        | 0.001        |\n",
      "|    loss                 | -0.0788      |\n",
      "|    n_updates            | 10           |\n",
      "|    policy_gradient_loss | -0.0392      |\n",
      "|    value_loss           | 0.0708       |\n",
      "------------------------------------------\n",
      "----------------------------------------\n",
      "| time/                   |            |\n",
      "|    fps                  | 31         |\n",
      "|    iterations           | 3          |\n",
      "|    time_elapsed         | 1          |\n",
      "|    total_timesteps      | 45         |\n",
      "| train/                  |            |\n",
      "|    approx_kl            | 0.01791567 |\n",
      "|    clip_fraction        | 0.427      |\n",
      "|    clip_range           | 0.1        |\n",
      "|    entropy_loss         | -0.685     |\n",
      "|    explained_variance   | -205       |\n",
      "|    learning_rate        | 0.001      |\n",
      "|    loss                 | -0.0846    |\n",
      "|    n_updates            | 20         |\n",
      "|    policy_gradient_loss | -0.053     |\n",
      "|    value_loss           | 0.0477     |\n",
      "----------------------------------------\n",
      "-----------------------------------------\n",
      "| time/                   |             |\n",
      "|    fps                  | 34          |\n",
      "|    iterations           | 4           |\n",
      "|    time_elapsed         | 1           |\n",
      "|    total_timesteps      | 60          |\n",
      "| train/                  |             |\n",
      "|    approx_kl            | 0.015544657 |\n",
      "|    clip_fraction        | 0.547       |\n",
      "|    clip_range           | 0.1         |\n",
      "|    entropy_loss         | -0.685      |\n",
      "|    explained_variance   | -4.48       |\n",
      "|    learning_rate        | 0.001       |\n",
      "|    loss                 | -0.067      |\n",
      "|    n_updates            | 30          |\n",
      "|    policy_gradient_loss | -0.0511     |\n",
      "|    value_loss           | 0.0256      |\n",
      "-----------------------------------------\n",
      "-----------------------------------------\n",
      "| time/                   |             |\n",
      "|    fps                  | 36          |\n",
      "|    iterations           | 5           |\n",
      "|    time_elapsed         | 2           |\n",
      "|    total_timesteps      | 75          |\n",
      "| train/                  |             |\n",
      "|    approx_kl            | 0.035956524 |\n",
      "|    clip_fraction        | 0.633       |\n",
      "|    clip_range           | 0.1         |\n",
      "|    entropy_loss         | -0.674      |\n",
      "|    explained_variance   | -7.37       |\n",
      "|    learning_rate        | 0.001       |\n",
      "|    loss                 | -0.0835     |\n",
      "|    n_updates            | 40          |\n",
      "|    policy_gradient_loss | -0.0641     |\n",
      "|    value_loss           | 0.0324      |\n",
      "-----------------------------------------\n",
      "-----------------------------------------\n",
      "| time/                   |             |\n",
      "|    fps                  | 37          |\n",
      "|    iterations           | 6           |\n",
      "|    time_elapsed         | 2           |\n",
      "|    total_timesteps      | 90          |\n",
      "| train/                  |             |\n",
      "|    approx_kl            | 0.022365222 |\n",
      "|    clip_fraction        | 0.693       |\n",
      "|    clip_range           | 0.1         |\n",
      "|    entropy_loss         | -0.671      |\n",
      "|    explained_variance   | -12         |\n",
      "|    learning_rate        | 0.001       |\n",
      "|    loss                 | -0.0844     |\n",
      "|    n_updates            | 50          |\n",
      "|    policy_gradient_loss | -0.0694     |\n",
      "|    value_loss           | 0.03        |\n",
      "-----------------------------------------\n",
      "-----------------------------------------\n",
      "| time/                   |             |\n",
      "|    fps                  | 36          |\n",
      "|    iterations           | 7           |\n",
      "|    time_elapsed         | 2           |\n",
      "|    total_timesteps      | 105         |\n",
      "| train/                  |             |\n",
      "|    approx_kl            | 0.022710405 |\n",
      "|    clip_fraction        | 0.667       |\n",
      "|    clip_range           | 0.1         |\n",
      "|    entropy_loss         | -0.67       |\n",
      "|    explained_variance   | -2.36       |\n",
      "|    learning_rate        | 0.001       |\n",
      "|    loss                 | -0.0852     |\n",
      "|    n_updates            | 60          |\n",
      "|    policy_gradient_loss | -0.0655     |\n",
      "|    value_loss           | 0.0211      |\n",
      "-----------------------------------------\n"
     ]
    },
    {
     "data": {
      "text/plain": [
       "<sb3_contrib.ppo_recurrent.ppo_recurrent.RecurrentPPO at 0x7f602f60c3d0>"
      ]
     },
     "execution_count": 6,
     "metadata": {},
     "output_type": "execute_result"
    }
   ],
   "source": [
    "model = RecurrentPPO('MlpLstmPolicy', # feed-forward neural network with multiple hidden layers\n",
    "            training_env, # environment in which the agent interacts and learns\n",
    "            verbose=1, # enables the training progress to be printed during the learning process\n",
    "            gamma=0.95, # determines the importance of future rewards compared to immediate rewards\n",
    "            n_steps=15, # steps to collect samples from the environment before performing an update\n",
    "            ent_coef=0.01, # encourages exploration by adding entropy to the policy loss\n",
    "            learning_rate=0.001, # controls the step size at which model's parameters are updated based on the gradient of the loss function\n",
    "            clip_range=0.1, # limits the update to a certain range to prevent large policy updates\n",
    "            batch_size=15,\n",
    "            device=DEVICE)\n",
    "# n = len(training_df)\n",
    "n = 100\n",
    "model.learn(total_timesteps=n)"
   ]
  },
  {
   "cell_type": "markdown",
   "metadata": {},
   "source": [
    "# Calculate indicators for testing dataset"
   ]
  },
  {
   "cell_type": "code",
   "execution_count": 8,
   "metadata": {},
   "outputs": [
    {
     "name": "stdout",
     "output_type": "stream",
     "text": [
      "                     index  Unnamed: 0      open      high       low  \\\n",
      "date_open                                                              \n",
      "2023-01-06 08:00:00    128         128  16794.33  16812.22  16791.47   \n",
      "2023-01-06 09:00:00    129         129  16802.11  16802.27  16762.50   \n",
      "2023-01-06 10:00:00    130         130  16787.10  16802.98  16760.00   \n",
      "\n",
      "                        close      volume           date_close  feature_ROC_2  \\\n",
      "date_open                                                                       \n",
      "2023-01-06 08:00:00  16802.11  5475.13940  2023-01-06 09:00:00       0.087678   \n",
      "2023-01-06 09:00:00  16787.10  7581.99164  2023-01-06 10:00:00      -0.027633   \n",
      "2023-01-06 10:00:00  16767.06  6268.17791  2023-01-06 11:00:00      -0.204559   \n",
      "\n",
      "                     feature_RROC_2  ...  feature_ROC_32  feature_RROC_32  \\\n",
      "date_open                            ...                                    \n",
      "2023-01-06 08:00:00     -138.976456  ...       -0.339088      -143.879799   \n",
      "2023-01-06 09:00:00      -87.133089  ...       -0.359170      -144.795913   \n",
      "2023-01-06 10:00:00     -337.393197  ...       -0.399657      -145.765223   \n",
      "\n",
      "                     feature_ATR_32  feature_ADX_32  feature_RSI_32  \\\n",
      "date_open                                                             \n",
      "2023-01-06 08:00:00       34.421563       75.647646       32.066543   \n",
      "2023-01-06 09:00:00       34.343438       74.690986       31.149886   \n",
      "2023-01-06 10:00:00       35.025938       73.999016       30.065782   \n",
      "\n",
      "                     feature_ROC_64  feature_RROC_64  feature_ATR_64  \\\n",
      "date_open                                                              \n",
      "2023-01-06 08:00:00        0.676579       -43.159133       45.555625   \n",
      "2023-01-06 09:00:00        0.688049       -44.160175       45.572031   \n",
      "2023-01-06 10:00:00        0.682112       -44.970123       45.825938   \n",
      "\n",
      "                     feature_ADX_64  feature_RSI_64  \n",
      "date_open                                            \n",
      "2023-01-06 08:00:00       67.108685       36.547572  \n",
      "2023-01-06 09:00:00       66.906432       36.091207  \n",
      "2023-01-06 10:00:00       66.694419       35.528952  \n",
      "\n",
      "[3 rows x 44 columns]\n",
      "                     index  Unnamed: 0      open      high       low  \\\n",
      "date_open                                                              \n",
      "2023-08-04 01:00:00   5160        5160  29232.95  29234.00  29191.04   \n",
      "2023-08-04 02:00:00   5161        5161  29198.15  29209.91  29100.00   \n",
      "2023-08-04 03:00:00   5162        5162  29166.00  29178.70  29136.17   \n",
      "\n",
      "                        close      volume           date_close  feature_ROC_2  \\\n",
      "date_open                                                                       \n",
      "2023-08-04 01:00:00  29198.15   403.83160  2023-08-04 02:00:00       0.023061   \n",
      "2023-08-04 02:00:00  29166.00  1033.66855  2023-08-04 03:00:00      -0.215576   \n",
      "2023-08-04 03:00:00  29161.29   540.30101  2023-08-04 04:00:00      -0.138428   \n",
      "\n",
      "                     feature_RROC_2  ...  feature_ROC_32  feature_RROC_32  \\\n",
      "date_open                            ...                                    \n",
      "2023-08-04 01:00:00     -113.291215  ...       -0.680825      -173.136960   \n",
      "2023-08-04 02:00:00      707.012053  ...       -0.572094      -168.132810   \n",
      "2023-08-04 03:00:00     -597.339224  ...       -0.479801      -163.254381   \n",
      "\n",
      "                     feature_ATR_32  feature_ADX_32  feature_RSI_32  \\\n",
      "date_open                                                             \n",
      "2023-08-04 01:00:00      101.243750       32.718127       34.118825   \n",
      "2023-08-04 02:00:00      100.615938       34.735913       33.609551   \n",
      "2023-08-04 03:00:00       99.551563       39.486434       33.483632   \n",
      "\n",
      "                     feature_ROC_64  feature_RROC_64  feature_ATR_64  \\\n",
      "date_open                                                              \n",
      "2023-08-04 01:00:00        0.519582       -97.441634      131.885000   \n",
      "2023-08-04 02:00:00        0.565508      -110.319341      132.883594   \n",
      "2023-08-04 03:00:00        0.627247      -120.156495      132.479531   \n",
      "\n",
      "                     feature_ADX_64  feature_RSI_64  \n",
      "date_open                                            \n",
      "2023-08-04 01:00:00       67.533543       34.787312  \n",
      "2023-08-04 02:00:00       69.619176       34.609420  \n",
      "2023-08-04 03:00:00       72.011732       34.953010  \n",
      "\n",
      "[3 rows x 44 columns]\n"
     ]
    }
   ],
   "source": [
    "ind_path = './data/indicators.csv'\n",
    "testing_df.to_csv(ind_path)\n",
    "indicators = Indicators(ind_path)\n",
    "indicators.to_csv(ind_path)\n",
    "testing_df = pd.read_csv(ind_path)\n",
    "testing_df[\"date_open\"] = pd.to_datetime(testing_df[\"date_open\"])\n",
    "testing_df.set_index(\"date_open\", inplace=True)\n",
    "\n",
    "testing_df.dropna(inplace=True)\n",
    "print(testing_df.head(3))\n",
    "print(testing_df.tail(3))"
   ]
  },
  {
   "cell_type": "code",
   "execution_count": 21,
   "metadata": {},
   "outputs": [
    {
     "name": "stdout",
     "output_type": "stream",
     "text": [
      "(37,)\n",
      "[ 8.7677605e-02 -1.3897646e+02  2.1735001e+01  9.3998184e+01\n",
      "  5.0000000e+01 -1.6281354e-01  5.9759155e+01  2.7867500e+01\n",
      "  8.6830162e+01  2.2887589e+01 -2.5204769e-01  1.0690672e+02\n",
      "  2.6600000e+01  8.2152237e+01  1.8897150e+01 -3.4905249e-01\n",
      " -3.5503836e+02  3.0045000e+01  8.9621849e+01  1.8681402e+01\n",
      " -1.1987240e-01 -1.1604339e+02  3.3138126e+01  8.5513313e+01\n",
      "  2.9803864e+01 -3.3908841e-01 -1.4387981e+02  3.4421562e+01\n",
      "  7.5647644e+01  3.2066544e+01  6.7657948e-01 -4.3159134e+01\n",
      "  4.5555626e+01  6.7108688e+01  3.6547573e+01  0.0000000e+00\n",
      "  0.0000000e+00]\n",
      "{'idx': 0, 'step': 0, 'date': numpy.datetime64('2023-01-06T08:00:00.000000000'), 'position_index': 0, 'position': 0, 'real_position': 0, 'data_volume': 5475.1394, 'data_low': 16791.47, 'data_date_close': '2023-01-06 09:00:00', 'data_index': 128, 'data_price change': 8.049999999999272, 'data_open': 16794.33, 'data_close': 16802.11, 'data_high': 16812.22, 'data_Unnamed: 0': 128, 'portfolio_valuation': 1000.0, 'portfolio_distribution_asset': 0, 'portfolio_distribution_fiat': 1000.0, 'portfolio_distribution_borrowed_asset': 0, 'portfolio_distribution_borrowed_fiat': 0, 'portfolio_distribution_interest_asset': 0, 'portfolio_distribution_interest_fiat': 0, 'reward': 0}\n"
     ]
    }
   ],
   "source": [
    "testing_env = gym.make(\"TradingEnv\",\n",
    "        name= \"BTCUSD\",\n",
    "        df = testing_df, # Your dataset with your custom features\n",
    "        positions = [0, 1], # -1 (=SHORT), 0(=SELL ALL), +1 (=BUY ALL)\n",
    "        portfolio_initial_value = 1000,\n",
    "    )\n",
    "\n",
    "observation, info = testing_env.reset()\n",
    "print(observation.shape)\n",
    "print(observation)\n",
    "print(info)"
   ]
  },
  {
   "cell_type": "markdown",
   "metadata": {},
   "source": [
    "# Test trained model on testing data"
   ]
  },
  {
   "cell_type": "code",
   "execution_count": 22,
   "metadata": {},
   "outputs": [],
   "source": [
    "for _ in range(100):\n",
    "    position_index, _states = model.predict(observation)\n",
    "    observation, reward, done, truncated, info = testing_env.step(position_index)\n",
    "    testing_env.save_for_render(dir = \"render_logs\")\n",
    "    if done or truncated:\n",
    "        break"
   ]
  },
  {
   "cell_type": "markdown",
   "metadata": {},
   "source": [
    "# Render results"
   ]
  },
  {
   "cell_type": "code",
   "execution_count": 23,
   "metadata": {},
   "outputs": [
    {
     "name": "stdout",
     "output_type": "stream",
     "text": [
      " * Serving Flask app 'gym_trading_env.renderer'\n",
      " * Debug mode: off\n"
     ]
    },
    {
     "name": "stderr",
     "output_type": "stream",
     "text": [
      "\u001b[31m\u001b[1mWARNING: This is a development server. Do not use it in a production deployment. Use a production WSGI server instead.\u001b[0m\n",
      " * Running on http://127.0.0.1:5000\n",
      "\u001b[33mPress CTRL+C to quit\u001b[0m\n",
      "127.0.0.1 - - [06/Aug/2023 23:19:21] \"GET / HTTP/1.1\" 200 -\n",
      "127.0.0.1 - - [06/Aug/2023 23:19:22] \"GET /update_data/BTCUSD_2023-08-06_23-19-12.pkl HTTP/1.1\" 200 -\n",
      "127.0.0.1 - - [06/Aug/2023 23:19:22] \"GET /metrics HTTP/1.1\" 200 -\n",
      "127.0.0.1 - - [06/Aug/2023 23:19:39] \"GET /update_data/BTCUSD_2023-08-06_23-19-11.pkl HTTP/1.1\" 200 -\n",
      "127.0.0.1 - - [06/Aug/2023 23:19:39] \"GET /metrics HTTP/1.1\" 200 -\n",
      "127.0.0.1 - - [06/Aug/2023 23:19:41] \"GET /update_data/BTCUSD_2023-08-06_23-19-12.pkl HTTP/1.1\" 200 -\n",
      "127.0.0.1 - - [06/Aug/2023 23:19:41] \"GET /metrics HTTP/1.1\" 200 -\n"
     ]
    }
   ],
   "source": [
    "renderer = Renderer(render_logs_dir=\"render_logs\")\n",
    "renderer.run()"
   ]
  }
 ],
 "metadata": {
  "kernelspec": {
   "display_name": "Python 3 (ipykernel)",
   "language": "python",
   "name": "python3"
  },
  "language_info": {
   "codemirror_mode": {
    "name": "ipython",
    "version": 3
   },
   "file_extension": ".py",
   "mimetype": "text/x-python",
   "name": "python",
   "nbconvert_exporter": "python",
   "pygments_lexer": "ipython3",
   "version": "3.10.12"
  }
 },
 "nbformat": 4,
 "nbformat_minor": 4
}
